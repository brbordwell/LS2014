{
 "metadata": {
  "name": "",
  "signature": "sha256:c6011bcb7dac7780f01fc7d5bef6ac2b03cb7809d38a9f98a229968927b91113"
 },
 "nbformat": 3,
 "nbformat_minor": 0,
 "worksheets": [
  {
   "cells": [
    {
     "cell_type": "markdown",
     "metadata": {
      "slideshow": {
       "slide_type": "slide"
      }
     },
     "source": [
      "#Galaxy Classification\n",
      "We sought a way to classify galaxies taken from Galaxy Zoo. Galaxy Zoo is a crowdsourced galaxy classifier. The site's users are shown images of galaxies and classify them by their shape. The project has been running for several years, so there are nearly 700,000 galaxies classified on SDSS's CASJobs database. This is an enormous training data set.\n",
      "\n",
      "That's the part of the reason why we chose this project. It was a real opportunity to work with \"Big\" data. It also seemed to value a mixed set of skills, different from what we normally did."
     ]
    },
    {
     "cell_type": "markdown",
     "metadata": {
      "slideshow": {
       "slide_type": "slide"
      }
     },
     "source": [
      "##Step 1: Getting the Data\n",
      "\n",
      "We pulled the data down from CASJobs. The Galaxy Zoo data is already on CASJobs, along with spectroscopic and photometric parameters. It was fairly simple to do a join across all the tables by each object's unique object ID to pull them down. \n",
      "\n",
      "The only challenge was to read through all the schema to find any parameters that may be useful, and throw out those that are totally useless (like ra & dec). The final query we used on CASJobs is below."
     ]
    },
    {
     "cell_type": "markdown",
     "metadata": {},
     "source": [
      "**SELECT**\n",
      "gz.objid, gz.p_el_debiased, gz.p_cs_debiased,\n",
      "gal.probPSF,\n",
      "gal.petroRad_u, gal.petroRad_g, gal.petroRad_r, gal.petroRad_i, gal.petroRad_z,\n",
      "gal.q_u, gal.q_g, gal.q_r, gal.q_i, gal.q_z,\n",
      "gal.u_u, gal.u_g, gal.u_r, gal.u_i, gal.u_z,\n",
      "gal.mE1_u, gal.mE1_g, gal.mE1_r, gal.mE1_i, gal.mE1_z,\n",
      "gal.mE2_u, gal.mE2_g, gal.mE2_r, gal.mE2_i, gal.mE2_z,\n",
      "gal.mRrCc_u, gal.mRrCc_g, gal.mRrCc_r, gal.mRrCc_i, gal.mRrCc_z,\n",
      "gal.mCr4_u, gal.mCr4_g, gal.mCr4_r, gal.mCr4_i, gal.mCr4_z,\n",
      "gal.deVRad_u, gal.deVRad_g, gal.deVRad_r, gal.deVRad_i, gal.deVRad_z,\n",
      "gal.deVAB_u, gal.deVAB_g, gal.deVAB_r, gal.deVAB_i, gal.deVAB_z,\n",
      "gal.expRad_u, gal.expRad_g, gal.expRad_r, gal.expRad_i, gal.expRad_z,\n",
      "gal.expAB_u, gal.expAB_g, gal.expAB_r, gal.expAB_i, gal.expAB_z,\n",
      "gal.modelFlux_u, gal.modelFlux_g, gal.modelFlux_r, gal.modelFlux_i, gal.modelFlux_z,\n",
      "gal.u, gal.g, gal.r, gal.i, gal.z,\n",
      "gal.extinction_u, gal.extinction_g, gal.extinction_r, gal.extinction_i, gal.extinction_z,\n",
      "gal.dered_u, gal.dered_g, gal.dered_r, gal.dered_i, gal.dered_z,\n",
      "gal.psffwhm_u, gal.psffwhm_g, gal.psffwhm_r, gal.psffwhm_i, gal.psffwhm_z,\n",
      "gal.dered_u-gal.dered_g, gal.dered_g-gal.dered_r, gal.dered_r-gal.dered_i, gal.dered_i-gal.dered_z,\n",
      "soa.z **AS** redshift, soa.velDisp,\n",
      "smass.smass.mstellar_median **as** mass\n",
      "\n",
      "**FROM** zooSpec **AS** gz\n",
      "\n",
      "**INTO** GalaxyZooData\n",
      "\n",
      "**JOIN** Galaxy **AS** gal **ON** gz.objid = gal.obji\n",
      "\n",
      "**JOIN** SpecObjAll **AS** soa **ON** gz.specObjid = soa.specObjid\n",
      "\n",
      "**JOIN** stellarMassPCAWiscM11 **AS** smass **ON** gz.specObjid = smass.specObjid\n"
     ]
    },
    {
     "cell_type": "markdown",
     "metadata": {
      "slideshow": {
       "slide_type": "fragment"
      }
     },
     "source": [
      "This returned a ~650,000 x 85 table. This is way too much data, so it needs to be cleaned."
     ]
    },
    {
     "cell_type": "markdown",
     "metadata": {
      "slideshow": {
       "slide_type": "slide"
      }
     },
     "source": [
      "##Step 2: Cleaning and Feature Selection\n",
      "The next step was to clean the data and select the parameters that had the strongest correlation. This was one of the most challenging portions of the project, simply because dealing with data of this size is hard. You can't load the whole structure into python at once; other techniques had to be used.  \n",
      "\n",
      "Sci-Kit Learn supports several feature selection algorithms. We chose to use SelectKBest and ExtraTreesClassifier, and select from their reccomendations."
     ]
    },
    {
     "cell_type": "code",
     "collapsed": false,
     "input": [
      "import itertools\n",
      "import numpy as np\n",
      "import os\n",
      "filename = '/home/mclaughlin6464/GitRepos/LS2014/Data/GalaxyZooData_Full.csv'\n",
      "\n",
      "N_ROWS = 50000 #use only the first 50,000 for demonstration\n",
      "#load in the first 50,000 lines into an array\n",
      "\n",
      "#get the column names\n",
      "header = open(filename).readline().split(',')\n",
      "with open(filename) as f:\n",
      "    data = np.genfromtxt(itertools.islice(f, N_ROWS+1), delimiter = ',',skip_header = 1)\n",
      "\n",
      "#slice off objid's and probabilities; don't learn from those.\n",
      "nonLearningData, data = data[:, :3], data[:, 3:]\n",
      "nonLearningNames, names = header[:3], header[3:]\n",
      "\n",
      "THRESHOLD = .8 #if p>.8, take that to be correct\n",
      "targets = np.zeros(data.shape[0])\n",
      "\n",
      "#set classifier flags\n",
      "targets[nonLearningData[:,1]>THRESHOLD] = 1\n",
      "targets[nonLearningData[:,2]>THRESHOLD] = 2"
     ],
     "language": "python",
     "metadata": {},
     "outputs": [],
     "prompt_number": 194
    },
    {
     "cell_type": "markdown",
     "metadata": {},
     "source": [
      "First, the select K best."
     ]
    },
    {
     "cell_type": "code",
     "collapsed": false,
     "input": [
      "from sklearn.feature_selection import SelectKBest, f_classif\n",
      "\n",
      "#do the fit. One line!\n",
      "clf = SelectKBest(f_classif, k = 'all').fit(data, targets)\n",
      "\n",
      "#sort by the ranking\n",
      "kbVals = sorted(itertools.izip(names, clf.scores_), reverse = True, key = lambda x: x[1])\n",
      "n = 0\n",
      "#print them in order\n",
      "kb_cutoff = 2000\n",
      "kbSet = set()\n",
      "print 'Features | Score'\n",
      "print '-'*20\n",
      "for name, val in kbVals:\n",
      "    if np.isnan(val):\n",
      "        continue\n",
      "    elif val<kb_cutoff:#arbitrary cutoff\n",
      "        break\n",
      "    print name,' | ', val\n",
      "    kbSet.add(name) #store for later\n",
      "    n+=1\n",
      "print '%d total above cutoff.'%n"
     ],
     "language": "python",
     "metadata": {},
     "outputs": [
      {
       "output_type": "stream",
       "stream": "stdout",
       "text": [
        "Features | Score\n",
        "--------------------\n",
        "deVRad_r  |  4186.32252333\n",
        "deVRad_i  |  3830.50396021\n",
        "expRad_r  |  2946.71899149\n",
        "expAB_r  |  2912.03996177\n",
        "expAB_i  |  2883.61530324\n",
        "deVAB_r  |  2763.95145522\n",
        "deVAB_i  |  2754.18242925\n",
        "expRad_i  |  2560.42936282\n",
        "velDisp  |  2256.40563682\n",
        "9 total above cutoff.\n"
       ]
      }
     ],
     "prompt_number": 195
    },
    {
     "cell_type": "markdown",
     "metadata": {},
     "source": [
      "For our second test, we used a Tree Classifier. It takes awhile longer to run."
     ]
    },
    {
     "cell_type": "code",
     "collapsed": false,
     "input": [
      "from sklearn.ensemble import ExtraTreesClassifier\n",
      "\n",
      "tree_clf = ExtraTreesClassifier(n_estimators = 100, n_jobs = -1).fit(data, targets)\n",
      "\n",
      "treeVals =  sorted(itertools.izip(names, tree_clf.feature_importances_), reverse = True, key = lambda x: x[1])\n",
      "n = 0\n",
      "tree_cutoff = .017\n",
      "treeSet = set()\n",
      "print 'Features | Importance'\n",
      "print '-'*20\n",
      "for name, val in treeVals:\n",
      "    name = name.strip()\n",
      "    if np.isnan(val):\n",
      "        continue\n",
      "    elif val<tree_cutoff:#arbitrary cutoff\n",
      "        break\n",
      "    print name,' | ', val\n",
      "    treeSet.add(name)\n",
      "    n+=1\n",
      "print '%d total above cutoff.'%n"
     ],
     "language": "python",
     "metadata": {},
     "outputs": [
      {
       "output_type": "stream",
       "stream": "stdout",
       "text": [
        "Features | Importance\n",
        "--------------------\n",
        "deVRad_i  |  0.0319677964917\n",
        "deVRad_r  |  0.0266265299916\n",
        "expAB_r  |  0.0245293916037\n",
        "deVAB_r  |  0.0243378815355\n",
        "deVAB_i  |  0.0242991862791\n",
        "velDisp  |  0.0242795498958\n",
        "expAB_i  |  0.0216828251351\n",
        "deVRad_u  |  0.0186701746387\n",
        "deVRad_g  |  0.0171615163139\n",
        "9 total above cutoff.\n"
       ]
      }
     ],
     "prompt_number": 196
    },
    {
     "cell_type": "markdown",
     "metadata": {},
     "source": [
      "So, which values were deemed important by both tests?"
     ]
    },
    {
     "cell_type": "code",
     "collapsed": false,
     "input": [
      "print treeSet & kbSet"
     ],
     "language": "python",
     "metadata": {},
     "outputs": [
      {
       "output_type": "stream",
       "stream": "stdout",
       "text": [
        "set(['deVAB_i', 'velDisp', 'expAB_i', 'deVRad_i', 'expAB_r', 'deVRad_r', 'deVAB_r'])\n"
       ]
      }
     ],
     "prompt_number": 197
    },
    {
     "cell_type": "markdown",
     "metadata": {},
     "source": [
      "These are all good parameters to use, so we plugged them in. We also looked through the other selected ones to see what would be good to take. Petrosian radius was highly correlated, but we deicded it probably didn't contain much information that wasn't in the other two measures of radii. We also elected to include u-g and r, since we felt uncomfortable with excluding magnitudes entirely. \n",
      "\n",
      "We also chose to eliminate \"uncertain\" galaxies from our sample, for the first run. We did this outside of python, but we easily could have done it in python. "
     ]
    },
    {
     "cell_type": "markdown",
     "metadata": {},
     "source": [
      "##Step 3: Various Learning Techniques\n",
      "\n",
      "The data is now primed and we're ready to learn. We started with a simple linear SVM"
     ]
    },
    {
     "cell_type": "code",
     "collapsed": false,
     "input": [
      "filename = '/home/mclaughlin6464/GitRepos/LS2014/Data/GalaxyZooClean.csv'\n",
      "N_ROWS = 20000 #don't use the whole dataset for the demonstration\n",
      "with open(filename) as t_in:\n",
      "    data = np.genfromtxt(itertools.islice(t_in, N_ROWS+1), delimiter = ',', names=  True).transpose()\n",
      "    \n",
      "eliptical, spiral = data['p_el_debiased']>THRESHOLD, data['p_cs_debiased']>.8\n",
      "classes = eliptical*0 + spiral*1\n",
      "\n",
      "excluded_names = set(['p_el_debiased', 'p_cs_debiased', 'objid'])\n",
      "svn_names = [x for x in data.dtype.names if x not in excluded_names]\n",
      "\n",
      "data_svm = data[svn_names]#slice the parts we don't need\n",
      "\n",
      "#From structured array to nparray\n",
      "data_svm = data_svm.view(np.float64).reshape(data_svm.shape + (-1,))"
     ],
     "language": "python",
     "metadata": {},
     "outputs": [],
     "prompt_number": 198
    },
    {
     "cell_type": "code",
     "collapsed": false,
     "input": [
      "#%%timeit\n",
      "from sklearn import svm, cross_validation\n",
      "#create a linear SVM\n",
      "linSVC = svm.LinearSVC()\n",
      "#shuffle the training data and cross-validate\n",
      "ss = cross_validation.StratifiedShuffleSplit(classes, n_iter = 10, test_size = 1./3.)\n",
      "scores = cross_validation.cross_val_score(linSVC, data_svm, classes, cv = ss)\n",
      "\n",
      "print 'Accuracy = %f +- %f'%(scores.mean(), scores.std())"
     ],
     "language": "python",
     "metadata": {},
     "outputs": [
      {
       "output_type": "stream",
       "stream": "stdout",
       "text": [
        "Accuracy = 0.880876 +- 0.126902\n"
       ]
      }
     ],
     "prompt_number": 199
    },
    {
     "cell_type": "markdown",
     "metadata": {},
     "source": [
      "Very good! Currently we're using a linear SVM. We can try a non-linear shape and see if that improves our results. This does take longer to calculate though."
     ]
    },
    {
     "cell_type": "code",
     "collapsed": false,
     "input": [
      "#%%timeit\n",
      "rbfSVC = svm.SVC(kernel = 'rbf')#Different kernel\n",
      "\n",
      "ss = cross_validation.StratifiedShuffleSplit(classes, n_iter = 10, test_size = 1./3.)\n",
      "scores = cross_validation.cross_val_score(rbfSVC, data_svm, classes, cv = ss)\n",
      "\n",
      "print 'Accuracy = %f +- %f'%(scores.mean(), scores.std())"
     ],
     "language": "python",
     "metadata": {},
     "outputs": [
      {
       "output_type": "stream",
       "stream": "stdout",
       "text": [
        "Accuracy = 0.959982 +- 0.002427\n"
       ]
      }
     ],
     "prompt_number": 200
    },
    {
     "cell_type": "markdown",
     "metadata": {},
     "source": [
      "Definetly an improvement, with much less uncertainty. Another thing we can try is to weight our data. Currently we have a binary flag, but we can assess our confidence by the probability it is one or another. \n",
      "\n",
      "The formula for weight is simply the distance from .5 in the probability.\n",
      "\n",
      "Sadly, sklearn doesn't make it easy to cross validate when weights are involved, so I've got to loop the old fashioned way.  "
     ]
    },
    {
     "cell_type": "code",
     "collapsed": false,
     "input": [
      "#%%timeit\n",
      "weights = np.abs(data['p_el_debiased']-.5)*10\n",
      "accs = np.zeros(10)\n",
      "#skelarn doesn't ahve cross validation with weights\n",
      "#Gotta loop the old fashioned way.\n",
      "for i in xrange(10):\n",
      "    rbfSVC_weights = svm.SVC(kernel = 'rbf')\n",
      "    X_train, X_test, y_train, y_test, weight_train, weight_test = cross_validation.train_test_split(data_svm, classes, weights, test_size = 1./3.)\n",
      "    rbfSVC_weights.fit(X_train, y_train, sample_weight = weight_train)\n",
      "    pred_class =rbfSVC_weights.predict(X_test)\n",
      "    N_match = (pred_class==y_test).sum()\n",
      "    accs[i] = (1.*N_match/len(pred_class))\n",
      "print 'Accuracy = %f +- %f'%(accs.mean(), accs.std())"
     ],
     "language": "python",
     "metadata": {},
     "outputs": [
      {
       "output_type": "stream",
       "stream": "stdout",
       "text": [
        "Accuracy = 0.963597 +- 0.001112\n"
       ]
      }
     ],
     "prompt_number": 201
    },
    {
     "cell_type": "markdown",
     "metadata": {},
     "source": [
      "Finally, we decided to throw a random forest at the problem."
     ]
    },
    {
     "cell_type": "code",
     "collapsed": false,
     "input": [
      "#%%timeit\n",
      "from sklearn.ensemble import RandomForestClassifier\n",
      "randomForest = RandomForestClassifier(150, n_jobs = -1, oob_score = True)\n",
      "\n",
      "s = cross_validation.StratifiedShuffleSplit(classes, n_iter = 10, test_size = 1./3.)\n",
      "scores = cross_validation.cross_val_score(randomForest, data_svm, classes, cv = ss)\n",
      "\n",
      "print 'Accuracy = %f +- %f'%(scores.mean(), scores.std())"
     ],
     "language": "python",
     "metadata": {},
     "outputs": [
      {
       "output_type": "stream",
       "stream": "stdout",
       "text": [
        "Accuracy = 0.975566 +- 0.001072\n"
       ]
      }
     ],
     "prompt_number": 202
    },
    {
     "cell_type": "markdown",
     "metadata": {},
     "source": [
      "Awesome possum."
     ]
    },
    {
     "cell_type": "markdown",
     "metadata": {},
     "source": [
      "##Step 4: Analysis and Optimization\n",
      "\n",
      "Though our models increased in accuracy, there are other metrics by which we can measure their validity. We analyzed the ROC curves of each model, which measures the contamination vs. completeness of the sample. "
     ]
    },
    {
     "cell_type": "code",
     "collapsed": false,
     "input": [
      "from matplotlib import pyplot as plt\n",
      "%matplotlib inline\n",
      "from IPython.core.pylabtools import figsize\n",
      "figsize(12,10)\n",
      "from sklearn import metrics\n",
      "\n",
      "X_train, X_test, y_train, y_test, weight_train, weight_test = cross_validation.train_test_split(data_svm, classes, weights, test_size = 1./3.)\n",
      "\n",
      "#dictionary of the clfs\n",
      "clfs = {'Linear SVC': linSVC, 'RBF SVC': rbfSVC, 'RBF SVC Weighted': rbfSVC_weights, 'Random Forest': randomForest}\n",
      "\n",
      "colors = ['r','b','g','m','c','k']\n",
      "for (clf_name, clf), color  in itertools.izip(clfs.iteritems(), colors):\n",
      "    if clf_name == 'Random Forest': \n",
      "        y_score = clf.fit(X_train, y_train).predict_proba(X_test)[:, 1]\n",
      "    elif clf_name == 'RBF SVC Weighted':\n",
      "        #different syntax for weighted\n",
      "        y_score = clf.fit(X_train, y_train, sample_weight = weight_train).decision_function(X_test)\n",
      "    else:\n",
      "        y_score = clf.fit(X_train, y_train).decision_function(X_test)\n",
      "    \n",
      "    fpr, tpr, _ = metrics.roc_curve(y_test, y_score)\n",
      "    \n",
      "    roc_auc =metrics.auc(fpr, tpr)\n",
      "    plt.plot(fpr, tpr, label = '%s curve (area = %.3f)'%(clf_name, roc_auc), color = color, linewidth = 1.5)\n",
      "    \n",
      "plt.title('ROC Curves')\n",
      "plt.plot([0,1],[0,1], 'k--')\n",
      "plt.legend()\n",
      "plt.xlabel('False Positive Rate')\n",
      "plt.ylabel('True Positive Rate')\n",
      "plt.show()"
     ],
     "language": "python",
     "metadata": {},
     "outputs": [
      {
       "metadata": {},
       "output_type": "display_data",
       "png": "[encoded data removed]",
       "text": [
        "<matplotlib.figure.Figure at 0x7dc4e110>"
       ]
      }
     ],
     "prompt_number": 203
    },
    {
     "cell_type": "markdown",
     "metadata": {},
     "source": [
      "The first one is the most accurate, but all of them performed quite well. Another test is to vary the number of samples, to see how the accuracy improves. "
     ]
    },
    {
     "cell_type": "code",
     "collapsed": false,
     "input": [
      "#N_test = N_ROWS*.5#test only over some of the samples\n",
      "N_test = 5000#test only over 5000 samples\n",
      "\n",
      "#find a maximum number to test\n",
      "max_exp = 5\n",
      "x = 2**max_exp\n",
      "while x<N_test:\n",
      "    max_exp+=1\n",
      "    x*=2\n",
      "\n",
      "Ns = 2**np.arange(5, max_exp)#different sample sizes\n",
      "#dict of accuracies and uncertainties\n",
      "scores = {name:np.zeros(len(Ns)) for name in clfs}\n",
      "stds = {name: np.zeros(len(Ns)) for name in clfs}\n",
      "n_iter = 10\n",
      "\n",
      "for idx,N in enumerate(Ns):\n",
      "    #iterate over each classifying function\n",
      "    for clf_name, clf  in clfs.iteritems():\n",
      "        if clf_name == 'RBF SVC Weighted':#do it differently for weights, sadly.\n",
      "            #same as before, with doing the fit 10x\n",
      "            weight_accs = np.zeros(n_iter)\n",
      "            for i in xrange(n_iter):\n",
      "                X_train, X_test, y_train, y_test, weight_train, _ = cross_validation.train_test_split(data_svm[:N], classes[:N], weights[:N], test_size = 1./3.)\n",
      "                clf.fit(X_train, y_train, sample_weight = weight_train)\n",
      "                pred_class =rbfSVC_weights.predict(X_test)\n",
      "                N_match = (pred_class==y_test).sum()\n",
      "                accs[i] = (1.*N_match/len(pred_class))\n",
      "            scores[clf_name][idx] = accs.mean()\n",
      "            stds[clf_name][idx] = accs.std()\n",
      "            \n",
      "        else:\n",
      "            #cross validate for a new size of data\n",
      "            ss = cross_validation.StratifiedShuffleSplit(classes, n_iter, test_size = N_test, train_size = N)\n",
      "            scores_i = cross_validation.cross_val_score(clf, data_svm, classes, cv=ss)\n",
      "            scores[clf_name][idx] = scores_i.mean()\n",
      "            stds[clf_name][idx] = scores_i.std()\n",
      "            \n",
      "#plot errorbars of each result\n",
      "fig = plt.figure()\n",
      "for i,(clf_name, color) in enumerate(itertools.izip(scores, colors)):\n",
      "    plt.subplot(2,2,i)\n",
      "    plt.title(clf_name)\n",
      "    plt.xscale('log')\n",
      "    plt.xlabel('N')\n",
      "    plt.ylabel('Accuracy')\n",
      "    plt.ylim(.75, 1)\n",
      "    plt.errorbar(Ns, scores[clf_name], yerr = stds[clf_name], c= color, linewidth = 1.5)\n",
      "\n",
      "fig.suptitle('Accuracies Vs. Size of Data')\n",
      "plt.show()"
     ],
     "language": "python",
     "metadata": {},
     "outputs": [
      {
       "metadata": {},
       "output_type": "display_data",
       "png": "[encoded data removed]",
       "text": [
        "<matplotlib.figure.Figure at 0x4e7df890>"
       ]
      }
     ],
     "prompt_number": 204
    },
    {
     "cell_type": "markdown",
     "metadata": {},
     "source": [
      "As can be seen, the random forest really blows the rest of them out of the water. We were able to successfully show that this sort of classification is possible, and realtively quick and easy with these tools. \n",
      "\n",
      "We think we're brushing up against the upper limit on this project. There is of course, another 3% gap to close. Also, we only closely looked at galaxies that are distinctly elliptical and spiral. We could attempt to use this technique to classify galaxies that even Galaxy Zoo failed to do. \n",
      "\n",
      "In addition to this, Galaxy Zoo 2 has a lot more data on the properties of galaxies, and we could do more classification on this sample. "
     ]
    },
    {
     "cell_type": "code",
     "collapsed": false,
     "input": [],
     "language": "python",
     "metadata": {},
     "outputs": [],
     "prompt_number": 204
    }
   ],
   "metadata": {}
  }
 ]
}